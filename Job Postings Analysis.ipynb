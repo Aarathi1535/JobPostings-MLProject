{
 "cells": [
  {
   "cell_type": "code",
   "execution_count": 58,
   "id": "94428d68",
   "metadata": {},
   "outputs": [
    {
     "data": {
      "text/html": [
       "<div>\n",
       "<style scoped>\n",
       "    .dataframe tbody tr th:only-of-type {\n",
       "        vertical-align: middle;\n",
       "    }\n",
       "\n",
       "    .dataframe tbody tr th {\n",
       "        vertical-align: top;\n",
       "    }\n",
       "\n",
       "    .dataframe thead th {\n",
       "        text-align: right;\n",
       "    }\n",
       "</style>\n",
       "<table border=\"1\" class=\"dataframe\">\n",
       "  <thead>\n",
       "    <tr style=\"text-align: right;\">\n",
       "      <th></th>\n",
       "      <th>Unnamed: 0</th>\n",
       "      <th>Category</th>\n",
       "      <th>Workplace</th>\n",
       "      <th>Location</th>\n",
       "      <th>Department</th>\n",
       "      <th>Type</th>\n",
       "    </tr>\n",
       "  </thead>\n",
       "  <tbody>\n",
       "    <tr>\n",
       "      <th>0</th>\n",
       "      <td>0</td>\n",
       "      <td>Business Analyst</td>\n",
       "      <td>Remote</td>\n",
       "      <td>United Kingdom</td>\n",
       "      <td>Operations</td>\n",
       "      <td>Full time</td>\n",
       "    </tr>\n",
       "    <tr>\n",
       "      <th>1</th>\n",
       "      <td>1</td>\n",
       "      <td>Business Analyst</td>\n",
       "      <td>Remote</td>\n",
       "      <td>Makati, Metro Manila, Philippines</td>\n",
       "      <td>Aux HQ</td>\n",
       "      <td>Full time</td>\n",
       "    </tr>\n",
       "    <tr>\n",
       "      <th>2</th>\n",
       "      <td>2</td>\n",
       "      <td>Business Analyst</td>\n",
       "      <td>On-site</td>\n",
       "      <td>Al-Dajeej, Al Farwaniyah Governorate, Kuwait</td>\n",
       "      <td>PWC Technologies</td>\n",
       "      <td>Full time</td>\n",
       "    </tr>\n",
       "    <tr>\n",
       "      <th>3</th>\n",
       "      <td>3</td>\n",
       "      <td>Business Analyst</td>\n",
       "      <td>On-site</td>\n",
       "      <td>London, England, United Kingdom</td>\n",
       "      <td>Consultants, Advisory</td>\n",
       "      <td>Full time</td>\n",
       "    </tr>\n",
       "    <tr>\n",
       "      <th>4</th>\n",
       "      <td>4</td>\n",
       "      <td>Business Analyst</td>\n",
       "      <td>Remote</td>\n",
       "      <td>United Kingdom</td>\n",
       "      <td>Operations</td>\n",
       "      <td>Full time</td>\n",
       "    </tr>\n",
       "  </tbody>\n",
       "</table>\n",
       "</div>"
      ],
      "text/plain": [
       "   Unnamed: 0          Category Workplace  \\\n",
       "0           0  Business Analyst    Remote   \n",
       "1           1  Business Analyst    Remote   \n",
       "2           2  Business Analyst   On-site   \n",
       "3           3  Business Analyst   On-site   \n",
       "4           4  Business Analyst    Remote   \n",
       "\n",
       "                                       Location             Department  \\\n",
       "0                                United Kingdom             Operations   \n",
       "1             Makati, Metro Manila, Philippines                 Aux HQ   \n",
       "2  Al-Dajeej, Al Farwaniyah Governorate, Kuwait       PWC Technologies   \n",
       "3               London, England, United Kingdom  Consultants, Advisory   \n",
       "4                                United Kingdom             Operations   \n",
       "\n",
       "        Type  \n",
       "0  Full time  \n",
       "1  Full time  \n",
       "2  Full time  \n",
       "3  Full time  \n",
       "4  Full time  "
      ]
     },
     "execution_count": 58,
     "metadata": {},
     "output_type": "execute_result"
    }
   ],
   "source": [
    "import warnings\n",
    "warnings.filterwarnings(\"ignore\")\n",
    "import pandas as pd\n",
    "df = pd.read_csv(r\"C:\\Users\\hp\\Downloads\\job_data_merged_1.csv\")\n",
    "df.head()"
   ]
  },
  {
   "cell_type": "code",
   "execution_count": 59,
   "id": "806ac192",
   "metadata": {},
   "outputs": [
    {
     "data": {
      "text/plain": [
       "(1095, 6)"
      ]
     },
     "execution_count": 59,
     "metadata": {},
     "output_type": "execute_result"
    }
   ],
   "source": [
    "df.shape"
   ]
  },
  {
   "cell_type": "code",
   "execution_count": 60,
   "id": "20a9921f",
   "metadata": {},
   "outputs": [],
   "source": [
    "df1 = df.drop(['Unnamed: 0'],axis=1)"
   ]
  },
  {
   "cell_type": "code",
   "execution_count": 61,
   "id": "df14f1e5",
   "metadata": {},
   "outputs": [
    {
     "data": {
      "text/html": [
       "<div>\n",
       "<style scoped>\n",
       "    .dataframe tbody tr th:only-of-type {\n",
       "        vertical-align: middle;\n",
       "    }\n",
       "\n",
       "    .dataframe tbody tr th {\n",
       "        vertical-align: top;\n",
       "    }\n",
       "\n",
       "    .dataframe thead th {\n",
       "        text-align: right;\n",
       "    }\n",
       "</style>\n",
       "<table border=\"1\" class=\"dataframe\">\n",
       "  <thead>\n",
       "    <tr style=\"text-align: right;\">\n",
       "      <th></th>\n",
       "      <th>Category</th>\n",
       "      <th>Workplace</th>\n",
       "      <th>Location</th>\n",
       "      <th>Department</th>\n",
       "      <th>Type</th>\n",
       "    </tr>\n",
       "  </thead>\n",
       "  <tbody>\n",
       "    <tr>\n",
       "      <th>0</th>\n",
       "      <td>Business Analyst</td>\n",
       "      <td>Remote</td>\n",
       "      <td>United Kingdom</td>\n",
       "      <td>Operations</td>\n",
       "      <td>Full time</td>\n",
       "    </tr>\n",
       "    <tr>\n",
       "      <th>1</th>\n",
       "      <td>Business Analyst</td>\n",
       "      <td>Remote</td>\n",
       "      <td>Makati, Metro Manila, Philippines</td>\n",
       "      <td>Aux HQ</td>\n",
       "      <td>Full time</td>\n",
       "    </tr>\n",
       "    <tr>\n",
       "      <th>2</th>\n",
       "      <td>Business Analyst</td>\n",
       "      <td>On-site</td>\n",
       "      <td>Al-Dajeej, Al Farwaniyah Governorate, Kuwait</td>\n",
       "      <td>PWC Technologies</td>\n",
       "      <td>Full time</td>\n",
       "    </tr>\n",
       "    <tr>\n",
       "      <th>3</th>\n",
       "      <td>Business Analyst</td>\n",
       "      <td>On-site</td>\n",
       "      <td>London, England, United Kingdom</td>\n",
       "      <td>Consultants, Advisory</td>\n",
       "      <td>Full time</td>\n",
       "    </tr>\n",
       "    <tr>\n",
       "      <th>4</th>\n",
       "      <td>Business Analyst</td>\n",
       "      <td>Remote</td>\n",
       "      <td>United Kingdom</td>\n",
       "      <td>Operations</td>\n",
       "      <td>Full time</td>\n",
       "    </tr>\n",
       "  </tbody>\n",
       "</table>\n",
       "</div>"
      ],
      "text/plain": [
       "           Category Workplace                                      Location  \\\n",
       "0  Business Analyst    Remote                                United Kingdom   \n",
       "1  Business Analyst    Remote             Makati, Metro Manila, Philippines   \n",
       "2  Business Analyst   On-site  Al-Dajeej, Al Farwaniyah Governorate, Kuwait   \n",
       "3  Business Analyst   On-site               London, England, United Kingdom   \n",
       "4  Business Analyst    Remote                                United Kingdom   \n",
       "\n",
       "              Department       Type  \n",
       "0             Operations  Full time  \n",
       "1                 Aux HQ  Full time  \n",
       "2       PWC Technologies  Full time  \n",
       "3  Consultants, Advisory  Full time  \n",
       "4             Operations  Full time  "
      ]
     },
     "execution_count": 61,
     "metadata": {},
     "output_type": "execute_result"
    }
   ],
   "source": [
    "df1.head()"
   ]
  },
  {
   "cell_type": "code",
   "execution_count": 62,
   "id": "acc4cb52",
   "metadata": {},
   "outputs": [
    {
     "data": {
      "text/plain": [
       "Category      False\n",
       "Workplace      True\n",
       "Location       True\n",
       "Department     True\n",
       "Type           True\n",
       "dtype: bool"
      ]
     },
     "execution_count": 62,
     "metadata": {},
     "output_type": "execute_result"
    }
   ],
   "source": [
    "df1.isnull().any()"
   ]
  },
  {
   "cell_type": "code",
   "execution_count": 63,
   "id": "656a7971",
   "metadata": {},
   "outputs": [
    {
     "data": {
      "text/plain": [
       "Category        0\n",
       "Workplace      56\n",
       "Location       68\n",
       "Department    166\n",
       "Type          169\n",
       "dtype: int64"
      ]
     },
     "execution_count": 63,
     "metadata": {},
     "output_type": "execute_result"
    }
   ],
   "source": [
    "df1.isnull().sum()"
   ]
  },
  {
   "cell_type": "code",
   "execution_count": 64,
   "id": "c18a37bc",
   "metadata": {},
   "outputs": [],
   "source": [
    "df3 = df1.dropna(axis=0)"
   ]
  },
  {
   "cell_type": "code",
   "execution_count": 65,
   "id": "4733cfd5",
   "metadata": {},
   "outputs": [
    {
     "data": {
      "text/plain": [
       "(798, 5)"
      ]
     },
     "execution_count": 65,
     "metadata": {},
     "output_type": "execute_result"
    }
   ],
   "source": [
    "df3.shape"
   ]
  },
  {
   "cell_type": "code",
   "execution_count": 66,
   "id": "9699c35a",
   "metadata": {},
   "outputs": [
    {
     "data": {
      "text/html": [
       "<div>\n",
       "<style scoped>\n",
       "    .dataframe tbody tr th:only-of-type {\n",
       "        vertical-align: middle;\n",
       "    }\n",
       "\n",
       "    .dataframe tbody tr th {\n",
       "        vertical-align: top;\n",
       "    }\n",
       "\n",
       "    .dataframe thead th {\n",
       "        text-align: right;\n",
       "    }\n",
       "</style>\n",
       "<table border=\"1\" class=\"dataframe\">\n",
       "  <thead>\n",
       "    <tr style=\"text-align: right;\">\n",
       "      <th></th>\n",
       "      <th>Category</th>\n",
       "      <th>Workplace</th>\n",
       "      <th>Location</th>\n",
       "      <th>Department</th>\n",
       "      <th>Type</th>\n",
       "    </tr>\n",
       "  </thead>\n",
       "  <tbody>\n",
       "    <tr>\n",
       "      <th>0</th>\n",
       "      <td>Business Analyst</td>\n",
       "      <td>Remote</td>\n",
       "      <td>United Kingdom</td>\n",
       "      <td>Operations</td>\n",
       "      <td>Full time</td>\n",
       "    </tr>\n",
       "    <tr>\n",
       "      <th>1</th>\n",
       "      <td>Business Analyst</td>\n",
       "      <td>Remote</td>\n",
       "      <td>Makati, Metro Manila, Philippines</td>\n",
       "      <td>Aux HQ</td>\n",
       "      <td>Full time</td>\n",
       "    </tr>\n",
       "    <tr>\n",
       "      <th>2</th>\n",
       "      <td>Business Analyst</td>\n",
       "      <td>On-site</td>\n",
       "      <td>Al-Dajeej, Al Farwaniyah Governorate, Kuwait</td>\n",
       "      <td>PWC Technologies</td>\n",
       "      <td>Full time</td>\n",
       "    </tr>\n",
       "    <tr>\n",
       "      <th>3</th>\n",
       "      <td>Business Analyst</td>\n",
       "      <td>On-site</td>\n",
       "      <td>London, England, United Kingdom</td>\n",
       "      <td>Consultants, Advisory</td>\n",
       "      <td>Full time</td>\n",
       "    </tr>\n",
       "    <tr>\n",
       "      <th>4</th>\n",
       "      <td>Business Analyst</td>\n",
       "      <td>Remote</td>\n",
       "      <td>United Kingdom</td>\n",
       "      <td>Operations</td>\n",
       "      <td>Full time</td>\n",
       "    </tr>\n",
       "    <tr>\n",
       "      <th>...</th>\n",
       "      <td>...</td>\n",
       "      <td>...</td>\n",
       "      <td>...</td>\n",
       "      <td>...</td>\n",
       "      <td>...</td>\n",
       "    </tr>\n",
       "    <tr>\n",
       "      <th>1090</th>\n",
       "      <td>UI/UX</td>\n",
       "      <td>Remote</td>\n",
       "      <td>Paris, Île-de-France, France</td>\n",
       "      <td>Content</td>\n",
       "      <td>Other</td>\n",
       "    </tr>\n",
       "    <tr>\n",
       "      <th>1091</th>\n",
       "      <td>UI/UX</td>\n",
       "      <td>Remote</td>\n",
       "      <td>Athens, Attica, Greece</td>\n",
       "      <td>Engineering</td>\n",
       "      <td>Full time</td>\n",
       "    </tr>\n",
       "    <tr>\n",
       "      <th>1092</th>\n",
       "      <td>UI/UX</td>\n",
       "      <td>On-site</td>\n",
       "      <td>Bulverde, Texas, United States</td>\n",
       "      <td>Marketing</td>\n",
       "      <td>Full time</td>\n",
       "    </tr>\n",
       "    <tr>\n",
       "      <th>1093</th>\n",
       "      <td>UI/UX</td>\n",
       "      <td>On-site</td>\n",
       "      <td>Amsterdam, North Holland, Netherlands</td>\n",
       "      <td>Marketing, Communications and Events</td>\n",
       "      <td>Full time</td>\n",
       "    </tr>\n",
       "    <tr>\n",
       "      <th>1094</th>\n",
       "      <td>UI/UX</td>\n",
       "      <td>Remote</td>\n",
       "      <td>Spain</td>\n",
       "      <td>Product &amp; Technology</td>\n",
       "      <td>Full time</td>\n",
       "    </tr>\n",
       "  </tbody>\n",
       "</table>\n",
       "<p>798 rows × 5 columns</p>\n",
       "</div>"
      ],
      "text/plain": [
       "              Category Workplace  \\\n",
       "0     Business Analyst    Remote   \n",
       "1     Business Analyst    Remote   \n",
       "2     Business Analyst   On-site   \n",
       "3     Business Analyst   On-site   \n",
       "4     Business Analyst    Remote   \n",
       "...                ...       ...   \n",
       "1090             UI/UX    Remote   \n",
       "1091             UI/UX    Remote   \n",
       "1092             UI/UX   On-site   \n",
       "1093             UI/UX   On-site   \n",
       "1094             UI/UX    Remote   \n",
       "\n",
       "                                          Location  \\\n",
       "0                                   United Kingdom   \n",
       "1                Makati, Metro Manila, Philippines   \n",
       "2     Al-Dajeej, Al Farwaniyah Governorate, Kuwait   \n",
       "3                  London, England, United Kingdom   \n",
       "4                                   United Kingdom   \n",
       "...                                            ...   \n",
       "1090                  Paris, Île-de-France, France   \n",
       "1091                        Athens, Attica, Greece   \n",
       "1092                Bulverde, Texas, United States   \n",
       "1093         Amsterdam, North Holland, Netherlands   \n",
       "1094                                         Spain   \n",
       "\n",
       "                                Department       Type  \n",
       "0                               Operations  Full time  \n",
       "1                                   Aux HQ  Full time  \n",
       "2                         PWC Technologies  Full time  \n",
       "3                    Consultants, Advisory  Full time  \n",
       "4                               Operations  Full time  \n",
       "...                                    ...        ...  \n",
       "1090                               Content      Other  \n",
       "1091                           Engineering  Full time  \n",
       "1092                             Marketing  Full time  \n",
       "1093  Marketing, Communications and Events  Full time  \n",
       "1094                  Product & Technology  Full time  \n",
       "\n",
       "[798 rows x 5 columns]"
      ]
     },
     "execution_count": 66,
     "metadata": {},
     "output_type": "execute_result"
    }
   ],
   "source": [
    "df3"
   ]
  },
  {
   "cell_type": "code",
   "execution_count": 67,
   "id": "58d08656",
   "metadata": {},
   "outputs": [
    {
     "data": {
      "text/plain": [
       "array(['Business Analyst', 'Cloud', 'Data Scientist', 'HR',\n",
       "       'Software Developer', 'UI/UX'], dtype=object)"
      ]
     },
     "execution_count": 67,
     "metadata": {},
     "output_type": "execute_result"
    }
   ],
   "source": [
    "df3.Category.unique()"
   ]
  },
  {
   "cell_type": "code",
   "execution_count": 68,
   "id": "c1d54bc9",
   "metadata": {},
   "outputs": [
    {
     "data": {
      "text/plain": [
       "array(['Remote', 'On-site', 'Hybrid', 'Hybride', 'Sur cite'], dtype=object)"
      ]
     },
     "execution_count": 68,
     "metadata": {},
     "output_type": "execute_result"
    }
   ],
   "source": [
    "df3.Workplace.unique()"
   ]
  },
  {
   "cell_type": "code",
   "execution_count": 69,
   "id": "9940946f",
   "metadata": {},
   "outputs": [
    {
     "data": {
      "text/plain": [
       "array(['Operations', 'Aux HQ', 'PWC Technologies',\n",
       "       'Consultants, Advisory', 'Data & Strategy, Performance Analytics',\n",
       "       'Computer/Software', 'Corporate Affairs', 'Technology',\n",
       "       '1 - Operations', 'Consulting', 'Security - Delivery',\n",
       "       'Data & Strategy, Digital Analytics', 'DELIV1', 'TECH',\n",
       "       'Account Team', 'Delivery', 'Information Technology', 'Labs',\n",
       "       'Data Management',\n",
       "       'Australia Markets, Technical Services, Intelligence Workspace',\n",
       "       'Business Management',\n",
       "       'Business Services Professionals, Risk & Compliance', 'HR',\n",
       "       'Ryanair Labs Dublin', 'ITPM', 'Product Delivery',\n",
       "       'Information Systems', 'Data+', 'Marketing',\n",
       "       'Sales, OLX Oman Jordan', 'Analytics', 'Finance',\n",
       "       'IMPLEMENTATIONS & DELIVERY', 'Insights', 'Commercial',\n",
       "       'Private Credit', 'Platform Product', 'Research Analysts', 'IT',\n",
       "       'Αθήνα', 'Digital Services', 'Data and Analytics',\n",
       "       'Development and Technical', 'DCP - Operations', 'Corporate',\n",
       "       'Analysis', 'CX Operations', 'Data Science', 'Risk Management',\n",
       "       'Customer Experience', 'Research', 'Strategy & BI',\n",
       "       'Asset Management', 'DCP - Finance & IT', 'Related Services',\n",
       "       'Associates', 'Human Resources', 'Technology/Data', 'Data',\n",
       "       'Engineering', 'Corporate Strategy', 'Business Support',\n",
       "       'One Research', 'Management', 'Sales', 'Permanent',\n",
       "       'Client Services', 'Cloud Business Division', 'SFW', 'ENG',\n",
       "       'Market Unit International, MU Int India', 'Customer Success',\n",
       "       'Product and Engineering', 'NetNation', 'UNIT 4', '🔵',\n",
       "       'Game Testing', 'Technology & Data', 'epay', 'United States (US)',\n",
       "       'Qoala - Indonesia, Engineering, Core Engineering', 'Product',\n",
       "       'Fulfilment', 'Quality Assurance & Test Engineering',\n",
       "       'Service Desk', 'UNIT 3', 'Infrastructure', 'Global', 'G & A',\n",
       "       'Product & Technology', 'DevSecOps', 'Data Analytics & Research',\n",
       "       'IT Development', 'Mercari', 'Managed Services', 'Jessica',\n",
       "       'Technology Division', 'UX Team', 'R&D', 'Mission Support',\n",
       "       'Data & Analytics', 'Media & Entertainment', 'UK', 'Data Engineer',\n",
       "       'Development', 'BizApps', 'Data Solutions', 'Business Operations',\n",
       "       'QR_AU - Engineering Services',\n",
       "       'Business Operations, Analytics & Data Science',\n",
       "       'Tech, Analytics, Product & Design', 'Tech', 'B2C, Sales',\n",
       "       'Working Students / Internships',\n",
       "       'Cloud, Data Science & Informatics Services', 'Strategic Projects',\n",
       "       'Data Engineering', 'Technology - Machine Learning',\n",
       "       'Platform and Products', 'WWC Global - BC', 'FullTime', 'BI',\n",
       "       'GEK TERNA / ICT', 'Climate', 'Sustainable Agrifood Systems (SAS)',\n",
       "       '050000 Engineering', 'International BU', 'Dryland Crops Program',\n",
       "       'Data & AI', 'Supply Chain, Quality & Product Safety',\n",
       "       'Client Fulfillment', 'Open Source', 'Operations SG',\n",
       "       'Field Services', 'Media Planning',\n",
       "       'Engineering, Data Engineering', 'Food & Environment',\n",
       "       'Private Schools', 'General', 'Corporate support', 'LS&S HQ',\n",
       "       'CX Delivery (Managed & Guided Implementations)',\n",
       "       'Africa, Programs', 'Electrical', 'People, People',\n",
       "       'Design and Development', 'Construction', 'Legal VA', 'Talent',\n",
       "       'HCM', 'Agility Logistics Parks', 'AYANA Jakarta',\n",
       "       'People & Culture', 'Product Design', 'HQ - Shared Services, HR',\n",
       "       'Keywords India, HR', 'Growth + Marketing', 'DCP - HR',\n",
       "       'Editorial', 'People Operations & Admin',\n",
       "       'CCRES Behavioral Health Services, Home & Community Services (Intensive Behavioral Health Services)',\n",
       "       'Production', 'Eriez', 'Osceola',\n",
       "       'Communications, Diversity & Inclusion',\n",
       "       'Dangote Industries Limited', 'Customer Support', 'Recruiting',\n",
       "       'People', 'Operations LAX', 'Operations & Finance, People',\n",
       "       'International Division',\n",
       "       'Client Delivery, Digital Transformation', 'The Canadian Press',\n",
       "       'Operations, Sales', 'Ref: 117', 'Tier 2 PH',\n",
       "       'Professional Services', 'Freelance Recruiters :D', 'INTERNAL',\n",
       "       'Autonomy Products', 'Legal', 'Technology Tribe',\n",
       "       'Portfolio Company Community', 'Federal Civilian',\n",
       "       'Software Development', 'Digital Solutions',\n",
       "       'Développement Logiciel', 'Ryanair Labs Wrocław',\n",
       "       'InfoTrack US, Technology', 'DELIV2',\n",
       "       'Engine, Engineering, Software Engineering', 'DevOps',\n",
       "       'MMR Research Worldwide',\n",
       "       'Technology, Engineering, Software Engineering, Software Engineering',\n",
       "       'University Value', 'Engineering, Software Engineering',\n",
       "       'Kingwood', 'Platform', 'Technologie', 'Placement',\n",
       "       'Software Engineering', 'Engineering and Design', 'Trading',\n",
       "       'Engineering, Software Development', 'Technology - dubizzle labs',\n",
       "       'Israel', 'Dancom Technologies Limited', 'Game development',\n",
       "       '2023', 'Product Development', 'Data Management, IT Governance',\n",
       "       'information Technology', 'Freelancer.com', 'Product & Operations',\n",
       "       'Design', 'Recruiting Team', 'Design, Design UK', 'Active Pooling',\n",
       "       'Art', 'Creative Team', 'Product and Design',\n",
       "       'Create Talent Community', 'Programming',\n",
       "       'Talent Pools, Product & Tech', 'Poland, Engineering, PL',\n",
       "       'Visual Experience Design', 'Business Growth, Marketing & Product',\n",
       "       'Creative', 'Content', 'Marketing, Communications and Events'],\n",
       "      dtype=object)"
      ]
     },
     "execution_count": 69,
     "metadata": {},
     "output_type": "execute_result"
    }
   ],
   "source": [
    "df3.Department.unique()"
   ]
  },
  {
   "cell_type": "code",
   "execution_count": 70,
   "id": "41584e76",
   "metadata": {},
   "outputs": [
    {
     "data": {
      "text/plain": [
       "array(['United Kingdom', 'Makati, Metro Manila, Philippines',\n",
       "       'Al-Dajeej, Al Farwaniyah Governorate, Kuwait',\n",
       "       'London, England, United Kingdom',\n",
       "       'Islamabad, Islamabad Capital Territory, Pakistan',\n",
       "       'United States', 'Cary, North Carolina, United States',\n",
       "       'Overland Park, Kansas, United States',\n",
       "       'Brookfield, Wisconsin, United States', 'Athens, Attica, Greece',\n",
       "       'Astana, Aqmola oblısı, Kazakhstan',\n",
       "       'Washington, District of Columbia, United States',\n",
       "       'Boston, Massachusetts, United States',\n",
       "       'Orlando, Florida, United States', 'Austin, Texas, United States',\n",
       "       'Brisbane, Queensland, Australia',\n",
       "       'Salt Lake City, Utah, United States',\n",
       "       'Vancouver, British Columbia, Canada',\n",
       "       'Edinburgh, Scotland, United Kingdom',\n",
       "       'Swords, County Dublin, Ireland', 'Dublin, County Dublin, Ireland',\n",
       "       'Sacramento, California, United States', 'Athens, Greece',\n",
       "       'Warrington, England, United Kingdom', 'France',\n",
       "       'Lagos, Lagos, Nigeria', 'Amman, Amman Governorate, Jordan',\n",
       "       'Belgrade, Vojvodina, Serbia', 'Auckland, Auckland, New Zealand',\n",
       "       'Riyadh, Riyadh Province, Saudi Arabia',\n",
       "       'Melbourne, Victoria, Australia', 'Leeds, England, United Kingdom',\n",
       "       'Sydney, New South Wales, Australia',\n",
       "       'Chalcis, Central Greece, Greece',\n",
       "       'Arlington, Virginia, United States',\n",
       "       'Jeddah, Makkah Province, Saudi Arabia',\n",
       "       'Manchester, England, United Kingdom', 'Toronto, Ontario, Canada',\n",
       "       'New York, New York, United States', 'Calgary, Alberta, Canada',\n",
       "       'Fort Worth, Texas, United States', 'Obajana, Kogi, Nigeria',\n",
       "       'Anfa-Casablanca, Casablanca-Settat, Morocco',\n",
       "       'Milan, Metropolitan City of Milan, Italy',\n",
       "       'Golden, Colorado, United States',\n",
       "       'Phra Khanong, Bangkok, Thailand',\n",
       "       'Concord, New Hampshire, United States',\n",
       "       'Amarillo, Texas, United States', 'Jakarta, Jakarta, Indonesia',\n",
       "       'Virginia Beach, Virginia, United States',\n",
       "       'Barlborough, England, United Kingdom',\n",
       "       'Mexico City, Mexico City, Mexico',\n",
       "       'Singapore, Central, Singapore', 'India',\n",
       "       'Witney, England, United Kingdom', 'Gurugram, Haryana, India',\n",
       "       'Tampa, Florida, United States',\n",
       "       'Ridgefield Park, New Jersey, United States',\n",
       "       'Dubai, Dubai, United Arab Emirates',\n",
       "       'San Francisco, California, United States',\n",
       "       'Bengaluru, Karnataka, India', 'Mumbai, Maharashtra, India',\n",
       "       'Cambridge, England, United Kingdom',\n",
       "       'Chicago, Illinois, United States',\n",
       "       'Sofia, Sofia City Province, Bulgaria', 'Spain', 'Germany',\n",
       "       'Tangier, Tangier-Tétouan-Al Hoceima, Morocco',\n",
       "       'Shibuya, Tokyo, Japan', 'Leawood, Kansas, United States',\n",
       "       'Paris, Île-de-France, France', 'Seoul, Seoul, Korea, Republic of',\n",
       "       'Canada', 'Greece', 'Pune, Maharashtra, India',\n",
       "       'Bangalore, Karnataka, India',\n",
       "       'Palo Alto, California, United States',\n",
       "       'Oxford, England, United Kingdom',\n",
       "       'Brooklyn, New York, United States',\n",
       "       'Mandaluyong, Metro Manila, Philippines',\n",
       "       'Minato City, Tokyo, Japan', 'Liverpool, England, United Kingdom',\n",
       "       'Berchem, Antwerp, Belgium', 'Pasig, Metro Manila, Philippines',\n",
       "       'Miami, Florida, United States',\n",
       "       'Tel Aviv-Yafo, Tel Aviv District, Israel',\n",
       "       'Aiea, Hawaii, United States', 'Ahmedabad, Gujarat, India',\n",
       "       'Kathmandu, Bagmati Province, Nepal',\n",
       "       'Coimbra, Coimbra District, Portugal',\n",
       "       'Kuala Lumpur, Federal Territory of Kuala Lumpur, Malaysia',\n",
       "       'Alpharetta, Georgia, United States', 'Bangkok, Bangkok, Thailand',\n",
       "       'South Jakarta, South Jakarta City, Indonesia',\n",
       "       'İstanbul, İstanbul, Turkey', 'Reading, England, United Kingdom',\n",
       "       'Brussels, Brussels, Belgium', 'Delhi, Delhi, India',\n",
       "       'Boulder, Colorado, United States',\n",
       "       'Cairo, Cairo Governorate, Egypt',\n",
       "       'Stamford, Connecticut, United States',\n",
       "       'Louisville, Colorado, United States',\n",
       "       'Federal Territory of Kuala Lumpur, Malaysia',\n",
       "       'Atlanta, Georgia, United States',\n",
       "       'Issy-les-Moulineaux, Île-de-France, France',\n",
       "       'West Jakarta, West Jakarta City, Indonesia',\n",
       "       'Berlin, Berlin, Germany', 'Singapore',\n",
       "       'Jersey City, New Jersey, United States',\n",
       "       'Taipei, Taipei City, Taiwan', 'Lisbon, Lisbon, Portugal',\n",
       "       'Charlotte, North Carolina, United States',\n",
       "       'Walnut Creek, California, United States',\n",
       "       'Lusaka, Lusaka Province, Zambia', 'Dallas, Texas, United States',\n",
       "       'Cheltenham or Bristol or London, England, United Kingdom',\n",
       "       'Seville, Andalusia, Spain', 'Bambey, Diourbel Region, Senegal',\n",
       "       'Málaga, Andalusia, Spain', 'Westfield, New Jersey, United States',\n",
       "       'Singapore, Singapore, Singapore',\n",
       "       'Bakersfield, California, United States',\n",
       "       'Freetown, Western Area, Sierra Leone',\n",
       "       'San Leandro, California, United States',\n",
       "       'Baghdad, Baghdad Governorate, Iraq',\n",
       "       'Canary Wharf, England, United Kingdom',\n",
       "       'Rockville, Maryland, United States', 'Australia', 'Vietnam',\n",
       "       'Industrial Area, Al Rayyan Municipality, Qatar',\n",
       "       'Fort Myers, Florida, United States',\n",
       "       'Manila, Metro Manila, Philippines', 'California, United States',\n",
       "       'Dhahran, Eastern Province, Saudi Arabia',\n",
       "       'Central Jakarta, Central Jakarta City, Indonesia',\n",
       "       'Pekanbaru, Pekanbaru City, Indonesia',\n",
       "       'Paddington, England, United Kingdom',\n",
       "       'Rosslyn, Virginia, United States',\n",
       "       'Ndola, Copperbelt Province, Zambia',\n",
       "       'Victoria, England, United Kingdom',\n",
       "       'Mesa, Arizona, United States', 'Ho Chi Minh City, Vietnam',\n",
       "       'Ilorin, Kwara, Nigeria', 'London, Ontario, Canada',\n",
       "       'Downingtown, Chester County, United States',\n",
       "       'Erie, Pennsylvania, United States', 'Zürich, Zurich, Switzerland',\n",
       "       'Santa Ana, California, United States',\n",
       "       'Kissimmee, Florida, United States', 'Ota, Ogun, Nigeria',\n",
       "       'Perth, Western Australia, Australia', 'Suginami, Tokyo, Japan',\n",
       "       'Portland, Oregon, United States', 'Hyderabad, Telangana, India',\n",
       "       'Bruxelles, Bruxelles, Belgique',\n",
       "       'Los Angeles, California, United States', 'Kallithea, Greece',\n",
       "       'Taguig, Metro Manila, Philippines',\n",
       "       'Mathern, Chepstow, United Kingdom', 'Metro Manila, Philippines',\n",
       "       'Philippines', 'Knutsford, England, United Kingdom',\n",
       "       'Madrid, Community of Madrid, Spain',\n",
       "       'San Pedro Sula, Cortés Department, Honduras',\n",
       "       'Bulverde, Texas, United States',\n",
       "       'Scottsdale, Arizona, United States', 'Montréal, Québec, Canada',\n",
       "       'Wrocław, Lower Silesian Voivodeship, Poland',\n",
       "       'Cape Town, Western Cape, South Africa',\n",
       "       'Redmond, Washington, United States',\n",
       "       'Burlingame, California, United States',\n",
       "       'Florianópolis, State of Santa Catarina, Brazil',\n",
       "       'Kuwait City, Al Asimah Governate, Kuwait', 'South Africa',\n",
       "       'Durban, KwaZulu-Natal, South Africa',\n",
       "       'Cardiff, Wales, United Kingdom',\n",
       "       'Eindhoven, North Brabant, Netherlands',\n",
       "       'Kingwood, Texas, United States',\n",
       "       'Southampton, England, United Kingdom',\n",
       "       'London, London, United Kingdom',\n",
       "       'Oulu, North Ostrobothnia, Finland', 'Brazil',\n",
       "       'Kent, Washington, United States', 'Montreal, Quebec, Canada',\n",
       "       'Austinmer, New South Wales, Australia',\n",
       "       'Lakewood, New Jersey, United States', 'Karachi, Sindh, Pakistan',\n",
       "       'Tel Aviv, Tel Aviv District, Israel', 'Ottawa, Ontario, Canada',\n",
       "       'Wilayah Persekutuan, Kuala Lumpur, Malaysia',\n",
       "       'Suginami City, Tokyo, Japan', 'Uruguay',\n",
       "       'Johannesburg South, Gauteng, South Africa', 'Ukraine',\n",
       "       'Chennai, Tamil Nadu, India', 'Mechelen, Flanders, Belgium',\n",
       "       'Issaquah, Washington, United States',\n",
       "       'Wollongong, New South Wales, Australia',\n",
       "       'Bogotá, Bogota, Colombia', 'Bellville, Cape Town, South Africa',\n",
       "       'Indonesia', 'Maadi, Al Qāhirah, Egypt',\n",
       "       'Recife, State of Pernambuco, Brazil',\n",
       "       'Hove, Brighton and Hove, United Kingdom',\n",
       "       'Palm Beach Gardens, Florida, United States', 'Japan', 'China',\n",
       "       'Guildford, England, United Kingdom', 'Peru',\n",
       "       'North York, Ontario, Canada',\n",
       "       'Bellville, Western Cape, South Africa',\n",
       "       'Warsaw, Masovian Voivodeship, Poland',\n",
       "       'Uttoxeter, England, United Kingdom',\n",
       "       'Wellington, Wellington, New Zealand',\n",
       "       'Taipei, Xinyi District, Taiwan', 'England, United Kingdom',\n",
       "       'Amsterdam, North Holland, Netherlands'], dtype=object)"
      ]
     },
     "execution_count": 70,
     "metadata": {},
     "output_type": "execute_result"
    }
   ],
   "source": [
    "df3.Location.unique()"
   ]
  },
  {
   "cell_type": "code",
   "execution_count": 71,
   "id": "b96b4435",
   "metadata": {},
   "outputs": [
    {
     "data": {
      "text/plain": [
       "Category      False\n",
       "Workplace     False\n",
       "Location      False\n",
       "Department    False\n",
       "Type          False\n",
       "dtype: bool"
      ]
     },
     "execution_count": 71,
     "metadata": {},
     "output_type": "execute_result"
    }
   ],
   "source": [
    "df3.isnull().any()"
   ]
  },
  {
   "cell_type": "code",
   "execution_count": 72,
   "id": "0498f29b",
   "metadata": {},
   "outputs": [
    {
     "data": {
      "text/plain": [
       "array(['Full time', 'Contract', 'Other', 'Part time', 'Temporary',\n",
       "       'Temps plein'], dtype=object)"
      ]
     },
     "execution_count": 72,
     "metadata": {},
     "output_type": "execute_result"
    }
   ],
   "source": [
    "df3.Type.unique()"
   ]
  },
  {
   "cell_type": "code",
   "execution_count": 73,
   "id": "fe075df6",
   "metadata": {},
   "outputs": [],
   "source": [
    "df3.Type.replace({\n",
    "    'Full time':0,\n",
    "    'Contract':1,\n",
    "    'Other':2,\n",
    "    'Part time':3, \n",
    "    'Temporary':4,\n",
    "    'Temps plein':5\n",
    "},inplace=True)"
   ]
  },
  {
   "cell_type": "code",
   "execution_count": 74,
   "id": "af956ac9",
   "metadata": {},
   "outputs": [],
   "source": [
    "df4 = df3\n",
    "df3.Category.replace( {\n",
    "    'Business Analyst':0,\n",
    "    'Cloud':1,\n",
    "    'Data Scientist':2,\n",
    "    'HR':3,\n",
    "    'Software Developer':4, \n",
    "    'UI/UX':5\n",
    "},inplace=True)"
   ]
  },
  {
   "cell_type": "code",
   "execution_count": 75,
   "id": "a140b7c5",
   "metadata": {},
   "outputs": [],
   "source": [
    "df3.Workplace.replace(\n",
    "    {\n",
    "     'Remote':0, \n",
    "    'On-site':1, \n",
    "    'Hybrid':2,\n",
    "    'Hybride':3, \n",
    "    'Sur cite':4\n",
    "},inplace=True)"
   ]
  },
  {
   "cell_type": "code",
   "execution_count": 76,
   "id": "2c685f28",
   "metadata": {},
   "outputs": [
    {
     "data": {
      "text/html": [
       "<div>\n",
       "<style scoped>\n",
       "    .dataframe tbody tr th:only-of-type {\n",
       "        vertical-align: middle;\n",
       "    }\n",
       "\n",
       "    .dataframe tbody tr th {\n",
       "        vertical-align: top;\n",
       "    }\n",
       "\n",
       "    .dataframe thead th {\n",
       "        text-align: right;\n",
       "    }\n",
       "</style>\n",
       "<table border=\"1\" class=\"dataframe\">\n",
       "  <thead>\n",
       "    <tr style=\"text-align: right;\">\n",
       "      <th></th>\n",
       "      <th>Category</th>\n",
       "      <th>Workplace</th>\n",
       "      <th>Location</th>\n",
       "      <th>Department</th>\n",
       "      <th>Type</th>\n",
       "    </tr>\n",
       "  </thead>\n",
       "  <tbody>\n",
       "    <tr>\n",
       "      <th>0</th>\n",
       "      <td>0</td>\n",
       "      <td>0</td>\n",
       "      <td>United Kingdom</td>\n",
       "      <td>Operations</td>\n",
       "      <td>0</td>\n",
       "    </tr>\n",
       "    <tr>\n",
       "      <th>1</th>\n",
       "      <td>0</td>\n",
       "      <td>0</td>\n",
       "      <td>Makati, Metro Manila, Philippines</td>\n",
       "      <td>Aux HQ</td>\n",
       "      <td>0</td>\n",
       "    </tr>\n",
       "    <tr>\n",
       "      <th>2</th>\n",
       "      <td>0</td>\n",
       "      <td>1</td>\n",
       "      <td>Al-Dajeej, Al Farwaniyah Governorate, Kuwait</td>\n",
       "      <td>PWC Technologies</td>\n",
       "      <td>0</td>\n",
       "    </tr>\n",
       "    <tr>\n",
       "      <th>3</th>\n",
       "      <td>0</td>\n",
       "      <td>1</td>\n",
       "      <td>London, England, United Kingdom</td>\n",
       "      <td>Consultants, Advisory</td>\n",
       "      <td>0</td>\n",
       "    </tr>\n",
       "    <tr>\n",
       "      <th>4</th>\n",
       "      <td>0</td>\n",
       "      <td>0</td>\n",
       "      <td>United Kingdom</td>\n",
       "      <td>Operations</td>\n",
       "      <td>0</td>\n",
       "    </tr>\n",
       "    <tr>\n",
       "      <th>...</th>\n",
       "      <td>...</td>\n",
       "      <td>...</td>\n",
       "      <td>...</td>\n",
       "      <td>...</td>\n",
       "      <td>...</td>\n",
       "    </tr>\n",
       "    <tr>\n",
       "      <th>1090</th>\n",
       "      <td>5</td>\n",
       "      <td>0</td>\n",
       "      <td>Paris, Île-de-France, France</td>\n",
       "      <td>Content</td>\n",
       "      <td>2</td>\n",
       "    </tr>\n",
       "    <tr>\n",
       "      <th>1091</th>\n",
       "      <td>5</td>\n",
       "      <td>0</td>\n",
       "      <td>Athens, Attica, Greece</td>\n",
       "      <td>Engineering</td>\n",
       "      <td>0</td>\n",
       "    </tr>\n",
       "    <tr>\n",
       "      <th>1092</th>\n",
       "      <td>5</td>\n",
       "      <td>1</td>\n",
       "      <td>Bulverde, Texas, United States</td>\n",
       "      <td>Marketing</td>\n",
       "      <td>0</td>\n",
       "    </tr>\n",
       "    <tr>\n",
       "      <th>1093</th>\n",
       "      <td>5</td>\n",
       "      <td>1</td>\n",
       "      <td>Amsterdam, North Holland, Netherlands</td>\n",
       "      <td>Marketing, Communications and Events</td>\n",
       "      <td>0</td>\n",
       "    </tr>\n",
       "    <tr>\n",
       "      <th>1094</th>\n",
       "      <td>5</td>\n",
       "      <td>0</td>\n",
       "      <td>Spain</td>\n",
       "      <td>Product &amp; Technology</td>\n",
       "      <td>0</td>\n",
       "    </tr>\n",
       "  </tbody>\n",
       "</table>\n",
       "<p>798 rows × 5 columns</p>\n",
       "</div>"
      ],
      "text/plain": [
       "      Category  Workplace                                      Location  \\\n",
       "0            0          0                                United Kingdom   \n",
       "1            0          0             Makati, Metro Manila, Philippines   \n",
       "2            0          1  Al-Dajeej, Al Farwaniyah Governorate, Kuwait   \n",
       "3            0          1               London, England, United Kingdom   \n",
       "4            0          0                                United Kingdom   \n",
       "...        ...        ...                                           ...   \n",
       "1090         5          0                  Paris, Île-de-France, France   \n",
       "1091         5          0                        Athens, Attica, Greece   \n",
       "1092         5          1                Bulverde, Texas, United States   \n",
       "1093         5          1         Amsterdam, North Holland, Netherlands   \n",
       "1094         5          0                                         Spain   \n",
       "\n",
       "                                Department  Type  \n",
       "0                               Operations     0  \n",
       "1                                   Aux HQ     0  \n",
       "2                         PWC Technologies     0  \n",
       "3                    Consultants, Advisory     0  \n",
       "4                               Operations     0  \n",
       "...                                    ...   ...  \n",
       "1090                               Content     2  \n",
       "1091                           Engineering     0  \n",
       "1092                             Marketing     0  \n",
       "1093  Marketing, Communications and Events     0  \n",
       "1094                  Product & Technology     0  \n",
       "\n",
       "[798 rows x 5 columns]"
      ]
     },
     "execution_count": 76,
     "metadata": {},
     "output_type": "execute_result"
    }
   ],
   "source": [
    "df3"
   ]
  },
  {
   "cell_type": "code",
   "execution_count": 77,
   "id": "03930972",
   "metadata": {},
   "outputs": [],
   "source": [
    "df4 = df3"
   ]
  },
  {
   "cell_type": "code",
   "execution_count": 80,
   "id": "96221375",
   "metadata": {},
   "outputs": [
    {
     "data": {
      "text/html": [
       "<div>\n",
       "<style scoped>\n",
       "    .dataframe tbody tr th:only-of-type {\n",
       "        vertical-align: middle;\n",
       "    }\n",
       "\n",
       "    .dataframe tbody tr th {\n",
       "        vertical-align: top;\n",
       "    }\n",
       "\n",
       "    .dataframe thead th {\n",
       "        text-align: right;\n",
       "    }\n",
       "</style>\n",
       "<table border=\"1\" class=\"dataframe\">\n",
       "  <thead>\n",
       "    <tr style=\"text-align: right;\">\n",
       "      <th></th>\n",
       "      <th>Category</th>\n",
       "      <th>Workplace</th>\n",
       "      <th>Type</th>\n",
       "      <th>Location_Aiea, Hawaii, United States</th>\n",
       "      <th>Location_Al-Dajeej, Al Farwaniyah Governorate, Kuwait</th>\n",
       "      <th>Location_Alpharetta, Georgia, United States</th>\n",
       "      <th>Location_Amarillo, Texas, United States</th>\n",
       "      <th>Location_Amman, Amman Governorate, Jordan</th>\n",
       "      <th>Location_Amsterdam, North Holland, Netherlands</th>\n",
       "      <th>Location_Anfa-Casablanca, Casablanca-Settat, Morocco</th>\n",
       "      <th>...</th>\n",
       "      <th>Department_UX Team</th>\n",
       "      <th>Department_United States (US)</th>\n",
       "      <th>Department_University Value</th>\n",
       "      <th>Department_Visual Experience Design</th>\n",
       "      <th>Department_WWC Global - BC</th>\n",
       "      <th>Department_Working Students / Internships</th>\n",
       "      <th>Department_epay</th>\n",
       "      <th>Department_information Technology</th>\n",
       "      <th>Department_Αθήνα</th>\n",
       "      <th>Department_🔵</th>\n",
       "    </tr>\n",
       "  </thead>\n",
       "  <tbody>\n",
       "    <tr>\n",
       "      <th>0</th>\n",
       "      <td>0</td>\n",
       "      <td>0</td>\n",
       "      <td>0</td>\n",
       "      <td>False</td>\n",
       "      <td>False</td>\n",
       "      <td>False</td>\n",
       "      <td>False</td>\n",
       "      <td>False</td>\n",
       "      <td>False</td>\n",
       "      <td>False</td>\n",
       "      <td>...</td>\n",
       "      <td>False</td>\n",
       "      <td>False</td>\n",
       "      <td>False</td>\n",
       "      <td>False</td>\n",
       "      <td>False</td>\n",
       "      <td>False</td>\n",
       "      <td>False</td>\n",
       "      <td>False</td>\n",
       "      <td>False</td>\n",
       "      <td>False</td>\n",
       "    </tr>\n",
       "    <tr>\n",
       "      <th>1</th>\n",
       "      <td>0</td>\n",
       "      <td>0</td>\n",
       "      <td>0</td>\n",
       "      <td>False</td>\n",
       "      <td>False</td>\n",
       "      <td>False</td>\n",
       "      <td>False</td>\n",
       "      <td>False</td>\n",
       "      <td>False</td>\n",
       "      <td>False</td>\n",
       "      <td>...</td>\n",
       "      <td>False</td>\n",
       "      <td>False</td>\n",
       "      <td>False</td>\n",
       "      <td>False</td>\n",
       "      <td>False</td>\n",
       "      <td>False</td>\n",
       "      <td>False</td>\n",
       "      <td>False</td>\n",
       "      <td>False</td>\n",
       "      <td>False</td>\n",
       "    </tr>\n",
       "    <tr>\n",
       "      <th>2</th>\n",
       "      <td>0</td>\n",
       "      <td>1</td>\n",
       "      <td>0</td>\n",
       "      <td>False</td>\n",
       "      <td>True</td>\n",
       "      <td>False</td>\n",
       "      <td>False</td>\n",
       "      <td>False</td>\n",
       "      <td>False</td>\n",
       "      <td>False</td>\n",
       "      <td>...</td>\n",
       "      <td>False</td>\n",
       "      <td>False</td>\n",
       "      <td>False</td>\n",
       "      <td>False</td>\n",
       "      <td>False</td>\n",
       "      <td>False</td>\n",
       "      <td>False</td>\n",
       "      <td>False</td>\n",
       "      <td>False</td>\n",
       "      <td>False</td>\n",
       "    </tr>\n",
       "    <tr>\n",
       "      <th>3</th>\n",
       "      <td>0</td>\n",
       "      <td>1</td>\n",
       "      <td>0</td>\n",
       "      <td>False</td>\n",
       "      <td>False</td>\n",
       "      <td>False</td>\n",
       "      <td>False</td>\n",
       "      <td>False</td>\n",
       "      <td>False</td>\n",
       "      <td>False</td>\n",
       "      <td>...</td>\n",
       "      <td>False</td>\n",
       "      <td>False</td>\n",
       "      <td>False</td>\n",
       "      <td>False</td>\n",
       "      <td>False</td>\n",
       "      <td>False</td>\n",
       "      <td>False</td>\n",
       "      <td>False</td>\n",
       "      <td>False</td>\n",
       "      <td>False</td>\n",
       "    </tr>\n",
       "    <tr>\n",
       "      <th>4</th>\n",
       "      <td>0</td>\n",
       "      <td>0</td>\n",
       "      <td>0</td>\n",
       "      <td>False</td>\n",
       "      <td>False</td>\n",
       "      <td>False</td>\n",
       "      <td>False</td>\n",
       "      <td>False</td>\n",
       "      <td>False</td>\n",
       "      <td>False</td>\n",
       "      <td>...</td>\n",
       "      <td>False</td>\n",
       "      <td>False</td>\n",
       "      <td>False</td>\n",
       "      <td>False</td>\n",
       "      <td>False</td>\n",
       "      <td>False</td>\n",
       "      <td>False</td>\n",
       "      <td>False</td>\n",
       "      <td>False</td>\n",
       "      <td>False</td>\n",
       "    </tr>\n",
       "  </tbody>\n",
       "</table>\n",
       "<p>5 rows × 449 columns</p>\n",
       "</div>"
      ],
      "text/plain": [
       "   Category  Workplace  Type  Location_Aiea, Hawaii, United States  \\\n",
       "0         0          0     0                                 False   \n",
       "1         0          0     0                                 False   \n",
       "2         0          1     0                                 False   \n",
       "3         0          1     0                                 False   \n",
       "4         0          0     0                                 False   \n",
       "\n",
       "   Location_Al-Dajeej, Al Farwaniyah Governorate, Kuwait  \\\n",
       "0                                              False       \n",
       "1                                              False       \n",
       "2                                               True       \n",
       "3                                              False       \n",
       "4                                              False       \n",
       "\n",
       "   Location_Alpharetta, Georgia, United States  \\\n",
       "0                                        False   \n",
       "1                                        False   \n",
       "2                                        False   \n",
       "3                                        False   \n",
       "4                                        False   \n",
       "\n",
       "   Location_Amarillo, Texas, United States  \\\n",
       "0                                    False   \n",
       "1                                    False   \n",
       "2                                    False   \n",
       "3                                    False   \n",
       "4                                    False   \n",
       "\n",
       "   Location_Amman, Amman Governorate, Jordan  \\\n",
       "0                                      False   \n",
       "1                                      False   \n",
       "2                                      False   \n",
       "3                                      False   \n",
       "4                                      False   \n",
       "\n",
       "   Location_Amsterdam, North Holland, Netherlands  \\\n",
       "0                                           False   \n",
       "1                                           False   \n",
       "2                                           False   \n",
       "3                                           False   \n",
       "4                                           False   \n",
       "\n",
       "   Location_Anfa-Casablanca, Casablanca-Settat, Morocco  ...  \\\n",
       "0                                              False     ...   \n",
       "1                                              False     ...   \n",
       "2                                              False     ...   \n",
       "3                                              False     ...   \n",
       "4                                              False     ...   \n",
       "\n",
       "   Department_UX Team  Department_United States (US)  \\\n",
       "0               False                          False   \n",
       "1               False                          False   \n",
       "2               False                          False   \n",
       "3               False                          False   \n",
       "4               False                          False   \n",
       "\n",
       "   Department_University Value  Department_Visual Experience Design  \\\n",
       "0                        False                                False   \n",
       "1                        False                                False   \n",
       "2                        False                                False   \n",
       "3                        False                                False   \n",
       "4                        False                                False   \n",
       "\n",
       "   Department_WWC Global - BC  Department_Working Students / Internships  \\\n",
       "0                       False                                      False   \n",
       "1                       False                                      False   \n",
       "2                       False                                      False   \n",
       "3                       False                                      False   \n",
       "4                       False                                      False   \n",
       "\n",
       "   Department_epay  Department_information Technology  Department_Αθήνα  \\\n",
       "0            False                              False             False   \n",
       "1            False                              False             False   \n",
       "2            False                              False             False   \n",
       "3            False                              False             False   \n",
       "4            False                              False             False   \n",
       "\n",
       "   Department_🔵  \n",
       "0         False  \n",
       "1         False  \n",
       "2         False  \n",
       "3         False  \n",
       "4         False  \n",
       "\n",
       "[5 rows x 449 columns]"
      ]
     },
     "execution_count": 80,
     "metadata": {},
     "output_type": "execute_result"
    }
   ],
   "source": [
    "df4 = pd.get_dummies(df3,drop_first=True)\n",
    "df4.head()"
   ]
  },
  {
   "cell_type": "code",
   "execution_count": 81,
   "id": "792a2e76",
   "metadata": {},
   "outputs": [],
   "source": [
    "x = df4.drop(['Type'],axis=1)\n",
    "y = df4.Type\n",
    "from sklearn.model_selection import train_test_split\n",
    "x_train,x_test,y_train,y_test = train_test_split(x,y,test_size=0.2)"
   ]
  },
  {
   "cell_type": "code",
   "execution_count": 82,
   "id": "b6e508c8",
   "metadata": {},
   "outputs": [
    {
     "data": {
      "text/plain": [
       "638"
      ]
     },
     "execution_count": 82,
     "metadata": {},
     "output_type": "execute_result"
    }
   ],
   "source": [
    "len(x_train)"
   ]
  },
  {
   "cell_type": "code",
   "execution_count": 83,
   "id": "80a9862b",
   "metadata": {},
   "outputs": [
    {
     "data": {
      "text/plain": [
       "160"
      ]
     },
     "execution_count": 83,
     "metadata": {},
     "output_type": "execute_result"
    }
   ],
   "source": [
    "len(x_test)"
   ]
  },
  {
   "cell_type": "code",
   "execution_count": 84,
   "id": "b7303ded",
   "metadata": {},
   "outputs": [],
   "source": [
    "from sklearn.linear_model import LogisticRegression"
   ]
  },
  {
   "cell_type": "code",
   "execution_count": 85,
   "id": "072fc966",
   "metadata": {},
   "outputs": [],
   "source": [
    "model = LogisticRegression()"
   ]
  },
  {
   "cell_type": "code",
   "execution_count": 86,
   "id": "77349781",
   "metadata": {},
   "outputs": [
    {
     "data": {
      "text/html": [
       "<style>#sk-container-id-1 {color: black;}#sk-container-id-1 pre{padding: 0;}#sk-container-id-1 div.sk-toggleable {background-color: white;}#sk-container-id-1 label.sk-toggleable__label {cursor: pointer;display: block;width: 100%;margin-bottom: 0;padding: 0.3em;box-sizing: border-box;text-align: center;}#sk-container-id-1 label.sk-toggleable__label-arrow:before {content: \"▸\";float: left;margin-right: 0.25em;color: #696969;}#sk-container-id-1 label.sk-toggleable__label-arrow:hover:before {color: black;}#sk-container-id-1 div.sk-estimator:hover label.sk-toggleable__label-arrow:before {color: black;}#sk-container-id-1 div.sk-toggleable__content {max-height: 0;max-width: 0;overflow: hidden;text-align: left;background-color: #f0f8ff;}#sk-container-id-1 div.sk-toggleable__content pre {margin: 0.2em;color: black;border-radius: 0.25em;background-color: #f0f8ff;}#sk-container-id-1 input.sk-toggleable__control:checked~div.sk-toggleable__content {max-height: 200px;max-width: 100%;overflow: auto;}#sk-container-id-1 input.sk-toggleable__control:checked~label.sk-toggleable__label-arrow:before {content: \"▾\";}#sk-container-id-1 div.sk-estimator input.sk-toggleable__control:checked~label.sk-toggleable__label {background-color: #d4ebff;}#sk-container-id-1 div.sk-label input.sk-toggleable__control:checked~label.sk-toggleable__label {background-color: #d4ebff;}#sk-container-id-1 input.sk-hidden--visually {border: 0;clip: rect(1px 1px 1px 1px);clip: rect(1px, 1px, 1px, 1px);height: 1px;margin: -1px;overflow: hidden;padding: 0;position: absolute;width: 1px;}#sk-container-id-1 div.sk-estimator {font-family: monospace;background-color: #f0f8ff;border: 1px dotted black;border-radius: 0.25em;box-sizing: border-box;margin-bottom: 0.5em;}#sk-container-id-1 div.sk-estimator:hover {background-color: #d4ebff;}#sk-container-id-1 div.sk-parallel-item::after {content: \"\";width: 100%;border-bottom: 1px solid gray;flex-grow: 1;}#sk-container-id-1 div.sk-label:hover label.sk-toggleable__label {background-color: #d4ebff;}#sk-container-id-1 div.sk-serial::before {content: \"\";position: absolute;border-left: 1px solid gray;box-sizing: border-box;top: 0;bottom: 0;left: 50%;z-index: 0;}#sk-container-id-1 div.sk-serial {display: flex;flex-direction: column;align-items: center;background-color: white;padding-right: 0.2em;padding-left: 0.2em;position: relative;}#sk-container-id-1 div.sk-item {position: relative;z-index: 1;}#sk-container-id-1 div.sk-parallel {display: flex;align-items: stretch;justify-content: center;background-color: white;position: relative;}#sk-container-id-1 div.sk-item::before, #sk-container-id-1 div.sk-parallel-item::before {content: \"\";position: absolute;border-left: 1px solid gray;box-sizing: border-box;top: 0;bottom: 0;left: 50%;z-index: -1;}#sk-container-id-1 div.sk-parallel-item {display: flex;flex-direction: column;z-index: 1;position: relative;background-color: white;}#sk-container-id-1 div.sk-parallel-item:first-child::after {align-self: flex-end;width: 50%;}#sk-container-id-1 div.sk-parallel-item:last-child::after {align-self: flex-start;width: 50%;}#sk-container-id-1 div.sk-parallel-item:only-child::after {width: 0;}#sk-container-id-1 div.sk-dashed-wrapped {border: 1px dashed gray;margin: 0 0.4em 0.5em 0.4em;box-sizing: border-box;padding-bottom: 0.4em;background-color: white;}#sk-container-id-1 div.sk-label label {font-family: monospace;font-weight: bold;display: inline-block;line-height: 1.2em;}#sk-container-id-1 div.sk-label-container {text-align: center;}#sk-container-id-1 div.sk-container {/* jupyter's `normalize.less` sets `[hidden] { display: none; }` but bootstrap.min.css set `[hidden] { display: none !important; }` so we also need the `!important` here to be able to override the default hidden behavior on the sphinx rendered scikit-learn.org. See: https://github.com/scikit-learn/scikit-learn/issues/21755 */display: inline-block !important;position: relative;}#sk-container-id-1 div.sk-text-repr-fallback {display: none;}</style><div id=\"sk-container-id-1\" class=\"sk-top-container\"><div class=\"sk-text-repr-fallback\"><pre>LogisticRegression()</pre><b>In a Jupyter environment, please rerun this cell to show the HTML representation or trust the notebook. <br />On GitHub, the HTML representation is unable to render, please try loading this page with nbviewer.org.</b></div><div class=\"sk-container\" hidden><div class=\"sk-item\"><div class=\"sk-estimator sk-toggleable\"><input class=\"sk-toggleable__control sk-hidden--visually\" id=\"sk-estimator-id-1\" type=\"checkbox\" checked><label for=\"sk-estimator-id-1\" class=\"sk-toggleable__label sk-toggleable__label-arrow\">LogisticRegression</label><div class=\"sk-toggleable__content\"><pre>LogisticRegression()</pre></div></div></div></div></div>"
      ],
      "text/plain": [
       "LogisticRegression()"
      ]
     },
     "execution_count": 86,
     "metadata": {},
     "output_type": "execute_result"
    }
   ],
   "source": [
    "model.fit(x_train,y_train)"
   ]
  },
  {
   "cell_type": "code",
   "execution_count": 87,
   "id": "4751fbcb",
   "metadata": {},
   "outputs": [
    {
     "data": {
      "text/plain": [
       "0.925"
      ]
     },
     "execution_count": 87,
     "metadata": {},
     "output_type": "execute_result"
    }
   ],
   "source": [
    "model.score(x_test,y_test)"
   ]
  },
  {
   "cell_type": "code",
   "execution_count": 88,
   "id": "6719465a",
   "metadata": {},
   "outputs": [
    {
     "data": {
      "text/plain": [
       "array([0, 0, 0, 0, 0, 0, 0, 0, 0, 0, 0, 0, 0, 0, 0, 0, 0, 0, 0, 0, 0, 0,\n",
       "       0, 0, 0, 0, 0, 0, 0, 0, 1, 0, 0, 0, 0, 0, 0, 0, 0, 0, 0, 0, 0, 0,\n",
       "       0, 0, 0, 0, 0, 0, 0, 0, 0, 0, 0, 0, 0, 0, 0, 0, 0, 0, 0, 0, 0, 0,\n",
       "       0, 0, 0, 0, 0, 0, 0, 0, 0, 0, 0, 0, 0, 0, 0, 0, 1, 0, 0, 0, 0, 0,\n",
       "       0, 0, 0, 0, 0, 0, 0, 0, 0, 0, 0, 0, 0, 0, 0, 0, 0, 0, 0, 0, 0, 0,\n",
       "       0, 0, 0, 0, 0, 0, 0, 0, 0, 0, 0, 0, 0, 0, 0, 0, 0, 0, 0, 0, 0, 0,\n",
       "       0, 0, 0, 0, 0, 1, 0, 0, 0, 0, 0, 0, 0, 0, 0, 0, 0, 0, 0, 0, 0, 0,\n",
       "       0, 0, 0, 0, 0, 0, 0, 0, 0, 0, 0, 0, 0, 0, 0, 0, 0, 0, 0, 0, 0, 0,\n",
       "       0, 0, 0, 0, 0, 0, 0, 0, 0, 0, 0, 0, 0, 0, 0, 0, 0, 0, 0, 0, 0, 0,\n",
       "       0, 0, 0, 0, 0, 0, 0, 0, 0, 0, 0, 0, 0, 0, 0, 0, 0, 0, 0, 0, 0, 0,\n",
       "       0, 0, 0, 0, 0, 0, 0, 0, 0, 0, 0, 0, 0, 0, 0, 0, 0, 0, 0, 0, 0, 0,\n",
       "       0, 0, 0, 0, 0, 0, 0, 0, 0, 0, 0, 0, 0, 0, 0, 0, 0, 0, 0, 0, 0, 0,\n",
       "       0, 0, 0, 0, 0, 0, 0, 0, 0, 0, 0, 0, 0, 0, 0, 0, 0, 0, 0, 0, 0, 0,\n",
       "       0, 0, 0, 0, 0, 0, 0, 0, 0, 0, 0, 0, 0, 0, 0, 0, 0, 0, 0, 0, 0, 0,\n",
       "       0, 0, 0, 0, 0, 0, 0, 0, 0, 0, 0, 0, 0, 0, 0, 0, 0, 0, 0, 0, 0, 0,\n",
       "       0, 0, 0, 0, 0, 0, 0, 0, 0, 0, 0, 0, 0, 0, 0, 0, 0, 0, 0, 0, 0, 0,\n",
       "       0, 0, 0, 0, 0, 0, 0, 0, 0, 0, 0, 0, 0, 1, 0, 0, 0, 0, 0, 0, 0, 0,\n",
       "       0, 0, 0, 0, 0, 0, 0, 0, 0, 0, 0, 0, 0, 0, 0, 0, 0, 0, 0, 0, 0, 0,\n",
       "       0, 0, 0, 0, 0, 0, 0, 0, 0, 0, 0, 0, 0, 0, 0, 0, 0, 0, 0, 0, 0, 0,\n",
       "       0, 0, 0, 0, 0, 0, 0, 0, 0, 0, 0, 0, 0, 0, 0, 0, 0, 0, 0, 0, 0, 0,\n",
       "       0, 0, 0, 0, 0, 0, 0, 0, 0, 0, 0, 0, 0, 0, 0, 0, 0, 0, 0, 0, 0, 0,\n",
       "       0, 0, 0, 0, 0, 0, 0, 0, 0, 0, 0, 0, 0, 0, 0, 0, 0, 0, 0, 0, 0, 0,\n",
       "       0, 0, 0, 0, 0, 0, 0, 0, 0, 0, 0, 0, 0, 0, 0, 0, 0, 1, 0, 0, 0, 0,\n",
       "       0, 0, 0, 0, 1, 4, 0, 0, 0, 0, 0, 0, 0, 0, 0, 0, 0, 0, 5, 0, 0, 0,\n",
       "       0, 0, 0, 0, 0, 0, 0, 0, 0, 0, 0, 0, 0, 0, 0, 0, 0, 0, 4, 0, 0, 0,\n",
       "       0, 0, 0, 0, 0, 0, 0, 0, 0, 0, 0, 0, 0, 0, 0, 0, 0, 0, 0, 0, 0, 0,\n",
       "       0, 0, 0, 0, 0, 0, 0, 0, 0, 0, 0, 0, 0, 0, 0, 0, 0, 0, 0, 0, 0, 0,\n",
       "       0, 0, 0, 0, 0, 0, 0, 0, 0, 0, 0, 0, 0, 0, 0, 0, 0, 0, 0, 0, 0, 0,\n",
       "       0, 0, 0, 0, 0, 0, 0, 0, 0, 0, 0, 0, 0, 0, 0, 0, 0, 0, 0, 0, 0, 0],\n",
       "      dtype=int64)"
      ]
     },
     "execution_count": 88,
     "metadata": {},
     "output_type": "execute_result"
    }
   ],
   "source": [
    "model.predict(x_train)"
   ]
  },
  {
   "cell_type": "code",
   "execution_count": 89,
   "id": "9389f193",
   "metadata": {},
   "outputs": [],
   "source": [
    "from sklearn.metrics import confusion_matrix\n",
    "y_pred = model.predict(x_test)\n",
    "cm = confusion_matrix(y_pred,y_test)"
   ]
  },
  {
   "cell_type": "code",
   "execution_count": 90,
   "id": "c2ea4e2d",
   "metadata": {},
   "outputs": [
    {
     "data": {
      "text/plain": [
       "<Axes: >"
      ]
     },
     "execution_count": 90,
     "metadata": {},
     "output_type": "execute_result"
    },
    {
     "data": {
      "image/png": "[encoded data removed]",
      "text/plain": [
       "<Figure size 640x480 with 2 Axes>"
      ]
     },
     "metadata": {},
     "output_type": "display_data"
    }
   ],
   "source": [
    "import seaborn as sn\n",
    "sn.heatmap(cm,annot=True)"
   ]
  },
  {
   "cell_type": "code",
   "execution_count": 104,
   "id": "2947a6de",
   "metadata": {},
   "outputs": [
    {
     "data": {
      "text/plain": [
       "<matplotlib.collections.PathCollection at 0x20d9c104910>"
      ]
     },
     "execution_count": 104,
     "metadata": {},
     "output_type": "execute_result"
    },
    {
     "data": {
      "image/png": "[encoded data removed]",
      "text/plain": [
       "<Figure size 640x480 with 1 Axes>"
      ]
     },
     "metadata": {},
     "output_type": "display_data"
    }
   ],
   "source": [
    "import matplotlib.pyplot as plt \n",
    "plt.scatter(df3.Category,df3.Type,color='green',marker='+')\n",
    "plt.scatter(df3.Workplace,df3.Type,color='blue',marker='*')\n",
    "plt.scatter(df3.Location,df3.Type,color='red')\n",
    "plt.scatter(df3.Department,df3.Type,color='black')"
   ]
  },
  {
   "cell_type": "code",
   "execution_count": null,
   "id": "29250d45",
   "metadata": {},
   "outputs": [],
   "source": []
  },
  {
   "cell_type": "code",
   "execution_count": null,
   "id": "d1a0c3f1",
   "metadata": {},
   "outputs": [],
   "source": []
  }
 ],
 "metadata": {
  "kernelspec": {
   "display_name": "Python 3 (ipykernel)",
   "language": "python",
   "name": "python3"
  },
  "language_info": {
   "codemirror_mode": {
    "name": "ipython",
    "version": 3
   },
   "file_extension": ".py",
   "mimetype": "text/x-python",
   "name": "python",
   "nbconvert_exporter": "python",
   "pygments_lexer": "ipython3",
   "version": "3.11.5"
  }
 },
 "nbformat": 4,
 "nbformat_minor": 5
}
